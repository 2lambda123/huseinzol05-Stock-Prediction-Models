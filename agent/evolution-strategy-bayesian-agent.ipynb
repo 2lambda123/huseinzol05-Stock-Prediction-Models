{
 "cells": [
  {
   "cell_type": "code",
   "execution_count": 1,
   "metadata": {},
   "outputs": [],
   "source": [
    "import numpy as np\n",
    "import pandas as pd\n",
    "import time\n",
    "import matplotlib.pyplot as plt\n",
    "import seaborn as sns\n",
    "import random\n",
    "from bayes_opt import BayesianOptimization\n",
    "sns.set()\n",
    "from pprint import pprint\n",
    "import json"
   ]
  },
  {
   "cell_type": "code",
   "execution_count": 2,
   "metadata": {},
   "outputs": [],
   "source": [
    "def get_state(data, t, n):\n",
    "    d = t - n + 1\n",
    "    block = data[d : t + 1] if d >= 0 else -d * [data[0]] + data[0 : t + 1]\n",
    "    res = []\n",
    "    for i in range(n - 1):\n",
    "        res.append(block[i + 1] - block[i])\n",
    "    return np.array([res])"
   ]
  },
  {
   "cell_type": "code",
   "execution_count": 3,
   "metadata": {},
   "outputs": [
    {
     "data": {
      "text/html": [
       "<div>\n",
       "<style scoped>\n",
       "    .dataframe tbody tr th:only-of-type {\n",
       "        vertical-align: middle;\n",
       "    }\n",
       "\n",
       "    .dataframe tbody tr th {\n",
       "        vertical-align: top;\n",
       "    }\n",
       "\n",
       "    .dataframe thead th {\n",
       "        text-align: right;\n",
       "    }\n",
       "</style>\n",
       "<table border=\"1\" class=\"dataframe\">\n",
       "  <thead>\n",
       "    <tr style=\"text-align: right;\">\n",
       "      <th></th>\n",
       "      <th>Date</th>\n",
       "      <th>Open</th>\n",
       "      <th>High</th>\n",
       "      <th>Low</th>\n",
       "      <th>Close</th>\n",
       "      <th>Adj Close</th>\n",
       "      <th>Volume</th>\n",
       "    </tr>\n",
       "  </thead>\n",
       "  <tbody>\n",
       "    <tr>\n",
       "      <th>0</th>\n",
       "      <td>2017-10-02</td>\n",
       "      <td>959.979980</td>\n",
       "      <td>962.539978</td>\n",
       "      <td>947.840027</td>\n",
       "      <td>953.270020</td>\n",
       "      <td>953.270020</td>\n",
       "      <td>1283400</td>\n",
       "    </tr>\n",
       "    <tr>\n",
       "      <th>1</th>\n",
       "      <td>2017-10-03</td>\n",
       "      <td>954.000000</td>\n",
       "      <td>958.000000</td>\n",
       "      <td>949.140015</td>\n",
       "      <td>957.789978</td>\n",
       "      <td>957.789978</td>\n",
       "      <td>888300</td>\n",
       "    </tr>\n",
       "    <tr>\n",
       "      <th>2</th>\n",
       "      <td>2017-10-04</td>\n",
       "      <td>957.000000</td>\n",
       "      <td>960.390015</td>\n",
       "      <td>950.690002</td>\n",
       "      <td>951.679993</td>\n",
       "      <td>951.679993</td>\n",
       "      <td>952400</td>\n",
       "    </tr>\n",
       "    <tr>\n",
       "      <th>3</th>\n",
       "      <td>2017-10-05</td>\n",
       "      <td>955.489990</td>\n",
       "      <td>970.909973</td>\n",
       "      <td>955.179993</td>\n",
       "      <td>969.960022</td>\n",
       "      <td>969.960022</td>\n",
       "      <td>1213800</td>\n",
       "    </tr>\n",
       "    <tr>\n",
       "      <th>4</th>\n",
       "      <td>2017-10-06</td>\n",
       "      <td>966.700012</td>\n",
       "      <td>979.460022</td>\n",
       "      <td>963.359985</td>\n",
       "      <td>978.890015</td>\n",
       "      <td>978.890015</td>\n",
       "      <td>1173900</td>\n",
       "    </tr>\n",
       "  </tbody>\n",
       "</table>\n",
       "</div>"
      ],
      "text/plain": [
       "         Date        Open        High         Low       Close   Adj Close  \\\n",
       "0  2017-10-02  959.979980  962.539978  947.840027  953.270020  953.270020   \n",
       "1  2017-10-03  954.000000  958.000000  949.140015  957.789978  957.789978   \n",
       "2  2017-10-04  957.000000  960.390015  950.690002  951.679993  951.679993   \n",
       "3  2017-10-05  955.489990  970.909973  955.179993  969.960022  969.960022   \n",
       "4  2017-10-06  966.700012  979.460022  963.359985  978.890015  978.890015   \n",
       "\n",
       "    Volume  \n",
       "0  1283400  \n",
       "1   888300  \n",
       "2   952400  \n",
       "3  1213800  \n",
       "4  1173900  "
      ]
     },
     "execution_count": 3,
     "metadata": {},
     "output_type": "execute_result"
    }
   ],
   "source": [
    "df = pd.read_csv('../dataset/GOOG.csv')\n",
    "df.head()"
   ]
  },
  {
   "cell_type": "code",
   "execution_count": 4,
   "metadata": {},
   "outputs": [],
   "source": [
    "close = df.Close.values.tolist()\n",
    "window_size = 30\n",
    "skip = 5\n",
    "l = len(close) - 1"
   ]
  },
  {
   "cell_type": "code",
   "execution_count": 5,
   "metadata": {},
   "outputs": [],
   "source": [
    "class Deep_Evolution_Strategy:\n",
    "\n",
    "    inputs = None\n",
    "\n",
    "    def __init__(\n",
    "        self, weights, reward_function, population_size, sigma, learning_rate\n",
    "    ):\n",
    "        self.weights = weights\n",
    "        self.reward_function = reward_function\n",
    "        self.population_size = population_size\n",
    "        self.sigma = sigma\n",
    "        self.learning_rate = learning_rate\n",
    "\n",
    "    def _get_weight_from_population(self, weights, population):\n",
    "        weights_population = []\n",
    "        for index, i in enumerate(population):\n",
    "            jittered = self.sigma * i\n",
    "            weights_population.append(weights[index] + jittered)\n",
    "        return weights_population\n",
    "\n",
    "    def get_weights(self):\n",
    "        return self.weights\n",
    "\n",
    "    def train(self, epoch = 100, print_every = 1):\n",
    "        lasttime = time.time()\n",
    "        for i in range(epoch):\n",
    "            population = []\n",
    "            rewards = np.zeros(self.population_size)\n",
    "            for k in range(self.population_size):\n",
    "                x = []\n",
    "                for w in self.weights:\n",
    "                    x.append(np.random.randn(*w.shape))\n",
    "                population.append(x)\n",
    "            for k in range(self.population_size):\n",
    "                weights_population = self._get_weight_from_population(\n",
    "                    self.weights, population[k]\n",
    "                )\n",
    "                rewards[k] = self.reward_function(weights_population)\n",
    "            rewards = (rewards - np.mean(rewards)) / np.std(rewards)\n",
    "            for index, w in enumerate(self.weights):\n",
    "                A = np.array([p[index] for p in population])\n",
    "                self.weights[index] = (\n",
    "                    w\n",
    "                    + self.learning_rate\n",
    "                    / (self.population_size * self.sigma)\n",
    "                    * np.dot(A.T, rewards).T\n",
    "                )\n",
    "            if (i + 1) % print_every == 0:\n",
    "                print(\n",
    "                    'iter %d. reward: %f'\n",
    "                    % (i + 1, self.reward_function(self.weights))\n",
    "                )\n",
    "        print('time taken to train:', time.time() - lasttime, 'seconds')\n",
    "\n",
    "\n",
    "class Model:\n",
    "    def __init__(self, input_size, layer_size, output_size):\n",
    "        self.weights = [\n",
    "            np.random.randn(input_size, layer_size),\n",
    "            np.random.randn(layer_size, output_size),\n",
    "            np.random.randn(layer_size, 1),\n",
    "            np.random.randn(1, layer_size),\n",
    "        ]\n",
    "\n",
    "    def predict(self, inputs):\n",
    "        feed = np.dot(inputs, self.weights[0]) + self.weights[-1]\n",
    "        decision = np.dot(feed, self.weights[1])\n",
    "        buy = np.dot(feed, self.weights[2])\n",
    "        return decision, buy\n",
    "\n",
    "    def get_weights(self):\n",
    "        return self.weights\n",
    "\n",
    "    def set_weights(self, weights):\n",
    "        self.weights = weights"
   ]
  },
  {
   "cell_type": "code",
   "execution_count": 6,
   "metadata": {},
   "outputs": [],
   "source": [
    "class Agent:\n",
    "    def __init__(\n",
    "        self,\n",
    "        population_size,\n",
    "        sigma,\n",
    "        learning_rate,\n",
    "        model,\n",
    "        money,\n",
    "        max_buy,\n",
    "        max_sell,\n",
    "        skip,\n",
    "        window_size,\n",
    "    ):\n",
    "        self.window_size = window_size\n",
    "        self.skip = skip\n",
    "        self.POPULATION_SIZE = population_size\n",
    "        self.SIGMA = sigma\n",
    "        self.LEARNING_RATE = learning_rate\n",
    "        self.model = model\n",
    "        self.initial_money = money\n",
    "        self.max_buy = max_buy\n",
    "        self.max_sell = max_sell\n",
    "        self.es = Deep_Evolution_Strategy(\n",
    "            self.model.get_weights(),\n",
    "            self.get_reward,\n",
    "            self.POPULATION_SIZE,\n",
    "            self.SIGMA,\n",
    "            self.LEARNING_RATE,\n",
    "        )\n",
    "\n",
    "    def act(self, sequence):\n",
    "        decision, buy = self.model.predict(np.array(sequence))\n",
    "        return np.argmax(decision[0]), int(buy[0])\n",
    "\n",
    "    def get_reward(self, weights):\n",
    "        initial_money = self.initial_money\n",
    "        starting_money = initial_money\n",
    "        self.model.weights = weights\n",
    "        state = get_state(close, 0, self.window_size + 1)\n",
    "        inventory = []\n",
    "        quantity = 0\n",
    "        for t in range(0, l, self.skip):\n",
    "            action, buy = self.act(state)\n",
    "            next_state = get_state(close, t + 1, self.window_size + 1)\n",
    "            if action == 1 and initial_money >= close[t]:\n",
    "                if buy < 0:\n",
    "                    buy = 1\n",
    "                if buy > self.max_buy:\n",
    "                    buy_units = self.max_buy\n",
    "                else:\n",
    "                    buy_units = buy\n",
    "                total_buy = buy_units * close[t]\n",
    "                initial_money -= total_buy\n",
    "                inventory.append(total_buy)\n",
    "                quantity += buy_units\n",
    "            elif action == 2 and len(inventory) > 0:\n",
    "                if quantity > self.max_sell:\n",
    "                    sell_units = self.max_sell\n",
    "                else:\n",
    "                    sell_units = quantity\n",
    "                quantity -= sell_units\n",
    "                total_sell = sell_units * close[t]\n",
    "                initial_money += total_sell\n",
    "\n",
    "            state = next_state\n",
    "        return ((initial_money - starting_money) / starting_money) * 100\n",
    "\n",
    "    def fit(self, iterations, checkpoint):\n",
    "        self.es.train(iterations, print_every = checkpoint)\n",
    "\n",
    "    def buy(self):\n",
    "        initial_money = self.initial_money\n",
    "        state = get_state(close, 0, self.window_size + 1)\n",
    "        starting_money = initial_money\n",
    "        states_sell = []\n",
    "        states_buy = []\n",
    "        inventory = []\n",
    "        quantity = 0\n",
    "        for t in range(0, l, self.skip):\n",
    "            action, buy = self.act(state)\n",
    "            next_state = get_state(close, t + 1, self.window_size + 1)\n",
    "            if action == 1 and initial_money >= close[t]:\n",
    "                if buy < 0:\n",
    "                    buy = 1\n",
    "                if buy > self.max_buy:\n",
    "                    buy_units = self.max_buy\n",
    "                else:\n",
    "                    buy_units = buy\n",
    "                total_buy = buy_units * close[t]\n",
    "                initial_money -= total_buy\n",
    "                inventory.append(total_buy)\n",
    "                quantity += buy_units\n",
    "                states_buy.append(t)\n",
    "                print(\n",
    "                    'day %d: buy %d units at price %f, total balance %f'\n",
    "                    % (t, buy_units, total_buy, initial_money)\n",
    "                )\n",
    "            elif action == 2 and len(inventory) > 0:\n",
    "                bought_price = inventory.pop(0)\n",
    "                if quantity > self.max_sell:\n",
    "                    sell_units = self.max_sell\n",
    "                else:\n",
    "                    sell_units = quantity\n",
    "                if sell_units < 1:\n",
    "                    continue\n",
    "                quantity -= sell_units\n",
    "                total_sell = sell_units * close[t]\n",
    "                initial_money += total_sell\n",
    "                states_sell.append(t)\n",
    "                try:\n",
    "                    invest = ((total_sell - bought_price) / bought_price) * 100\n",
    "                except:\n",
    "                    invest = 0\n",
    "                print(\n",
    "                    'day %d, sell %d units at price %f, investment %f %%, total balance %f,'\n",
    "                    % (t, sell_units, total_sell, invest, initial_money)\n",
    "                )\n",
    "            state = next_state\n",
    "\n",
    "        invest = ((initial_money - starting_money) / starting_money) * 100\n",
    "        print(\n",
    "            '\\ntotal gained %f, total investment %f %%'\n",
    "            % (initial_money - starting_money, invest)\n",
    "        )\n",
    "        plt.figure(figsize = (20, 10))\n",
    "        plt.plot(close, label = 'true close', c = 'g')\n",
    "        plt.plot(\n",
    "            close, 'X', label = 'predict buy', markevery = states_buy, c = 'b'\n",
    "        )\n",
    "        plt.plot(\n",
    "            close, 'o', label = 'predict sell', markevery = states_sell, c = 'r'\n",
    "        )\n",
    "        plt.legend()\n",
    "        plt.show()"
   ]
  },
  {
   "cell_type": "code",
   "execution_count": 7,
   "metadata": {},
   "outputs": [],
   "source": [
    "def best_agent(\n",
    "    window_size, skip, population_size, sigma, learning_rate, size_network\n",
    "):\n",
    "    model = Model(window_size, size_network, 3)\n",
    "    agent = Agent(\n",
    "        population_size,\n",
    "        sigma,\n",
    "        learning_rate,\n",
    "        model,\n",
    "        10000,\n",
    "        5,\n",
    "        5,\n",
    "        skip,\n",
    "        window_size,\n",
    "    )\n",
    "    try:\n",
    "        agent.fit(10, 1000)\n",
    "        return agent.es.reward_function(agent.es.weights)\n",
    "    except:\n",
    "        return 0"
   ]
  },
  {
   "cell_type": "code",
   "execution_count": 8,
   "metadata": {},
   "outputs": [],
   "source": [
    "def find_best_agent(\n",
    "    window_size, skip, population_size, sigma, learning_rate, size_network\n",
    "):\n",
    "    global accbest\n",
    "    param = {\n",
    "        'window_size': int(np.around(window_size)),\n",
    "        'skip': int(np.around(skip)),\n",
    "        'population_size': int(np.around(population_size)),\n",
    "        'sigma': max(min(sigma, 1), 0.0001),\n",
    "        'learning_rate': max(min(learning_rate, 0.5), 0.000001),\n",
    "        'size_network': int(np.around(size_network)),\n",
    "    }\n",
    "    print('\\nSearch parameters %s' % (param))\n",
    "    investment = best_agent(**param)\n",
    "    print('stop after 100 iteration with investment %f' % (investment))\n",
    "    if investment > accbest:\n",
    "        costbest = investment\n",
    "    return investment"
   ]
  },
  {
   "cell_type": "code",
   "execution_count": 9,
   "metadata": {
    "scrolled": true
   },
   "outputs": [
    {
     "name": "stdout",
     "output_type": "stream",
     "text": [
      "\u001b[31mInitialization\u001b[0m\n",
      "\u001b[94m----------------------------------------------------------------------------------------------------------------------------\u001b[0m\n",
      " Step |   Time |      Value |   learning_rate |   population_size |     sigma |   size_network |      skip |   window_size | \n",
      "\n",
      "Search parameters {'window_size': 15, 'skip': 14, 'population_size': 50, 'sigma': 0.3418950006097839, 'learning_rate': 0.04407103978320809, 'size_network': 136}\n",
      "time taken to train: 0.08055615425109863 seconds\n",
      "stop after 100 iteration with investment 0.000000\n",
      "    1 | 00m00s | \u001b[35m   0.00000\u001b[0m | \u001b[32m         0.0441\u001b[0m | \u001b[32m          49.9614\u001b[0m | \u001b[32m   0.3419\u001b[0m | \u001b[32m      135.9981\u001b[0m | \u001b[32m  14.0621\u001b[0m | \u001b[32m      14.9159\u001b[0m | \n",
      "\n",
      "Search parameters {'window_size': 4, 'skip': 4, 'population_size': 43, 'sigma': 0.1544696788757519, 'learning_rate': 0.04593637490241277, 'size_network': 191}\n",
      "time taken to train: 0.06574368476867676 seconds\n",
      "stop after 100 iteration with investment -9.705400\n",
      "    2 | 00m00s |   -9.70540 |          0.0459 |           42.5713 |    0.1545 |       190.9301 |    4.1937 |        4.3802 | \n",
      "\n",
      "Search parameters {'window_size': 25, 'skip': 6, 'population_size': 1, 'sigma': 0.978180377626271, 'learning_rate': 0.3107849662002553, 'size_network': 36}\n",
      "stop after 100 iteration with investment 0.000000\n",
      "    3 | 00m00s |    0.00000 |          0.3108 |            1.0466 |    0.9782 |        36.2234 |    6.1586 |       25.0354 | \n",
      "\n",
      "Search parameters {'window_size': 44, 'skip': 13, 'population_size': 18, 'sigma': 0.051637809026686035, 'learning_rate': 0.0395150597590937, 'size_network': 784}\n"
     ]
    },
    {
     "name": "stderr",
     "output_type": "stream",
     "text": [
      "/home/tensortom/.local/share/virtualenvs/agent-MVd_fBYN/lib/python3.7/site-packages/ipykernel_launcher.py:39: RuntimeWarning: invalid value encountered in true_divide\n"
     ]
    },
    {
     "name": "stdout",
     "output_type": "stream",
     "text": [
      "stop after 100 iteration with investment 0.000000\n",
      "    4 | 00m00s |    0.00000 |          0.0395 |           18.4833 |    0.0516 |       784.3283 |   13.1421 |       43.8238 | \n",
      "\n",
      "Search parameters {'window_size': 40, 'skip': 13, 'population_size': 21, 'sigma': 0.26353186746777296, 'learning_rate': 0.0788801931587418, 'size_network': 538}\n",
      "stop after 100 iteration with investment 0.000000\n",
      "    5 | 00m00s |    0.00000 |          0.0789 |           21.1685 |    0.2635 |       537.7389 |   13.4438 |       39.5727 | \n",
      "\n",
      "Search parameters {'window_size': 46, 'skip': 15, 'population_size': 43, 'sigma': 0.6933458151109948, 'learning_rate': 0.4808186411963526, 'size_network': 508}\n",
      "stop after 100 iteration with investment 0.000000\n",
      "    6 | 00m00s |    0.00000 |          0.4808 |           42.6508 |    0.6933 |       508.2450 |   14.9141 |       45.6836 | \n",
      "\n",
      "Search parameters {'window_size': 14, 'skip': 7, 'population_size': 28, 'sigma': 0.37004153208157065, 'learning_rate': 0.07616716471128422, 'size_network': 204}\n",
      "time taken to train: 0.07577061653137207 seconds\n",
      "stop after 100 iteration with investment 0.273900\n",
      "    7 | 00m00s | \u001b[35m   0.27390\u001b[0m | \u001b[32m         0.0762\u001b[0m | \u001b[32m          28.4606\u001b[0m | \u001b[32m   0.3700\u001b[0m | \u001b[32m      203.5621\u001b[0m | \u001b[32m   7.1267\u001b[0m | \u001b[32m      13.8025\u001b[0m | \n",
      "\n",
      "Search parameters {'window_size': 29, 'skip': 14, 'population_size': 5, 'sigma': 0.07846227806995332, 'learning_rate': 0.08781602882453042, 'size_network': 151}\n",
      "stop after 100 iteration with investment 0.000000\n",
      "    8 | 00m00s |    0.00000 |          0.0878 |            5.2024 |    0.0785 |       150.8645 |   14.2412 |       28.9891 | \n",
      "\n",
      "Search parameters {'window_size': 7, 'skip': 9, 'population_size': 9, 'sigma': 0.5178061207936675, 'learning_rate': 0.05186656983274533, 'size_network': 904}\n",
      "time taken to train: 0.03816533088684082 seconds\n",
      "stop after 100 iteration with investment -68.742300\n",
      "    9 | 00m00s |  -68.74230 |          0.0519 |            9.0474 |    0.5178 |       904.2397 |    9.1529 |        7.4758 | \n",
      "\n",
      "Search parameters {'window_size': 45, 'skip': 9, 'population_size': 22, 'sigma': 0.7338688810280549, 'learning_rate': 0.07703652037796027, 'size_network': 148}\n",
      "time taken to train: 0.06800317764282227 seconds\n",
      "stop after 100 iteration with investment 0.000000\n",
      "   10 | 00m00s |    0.00000 |          0.0770 |           21.8390 |    0.7339 |       147.7964 |    9.3793 |       45.3701 | \n",
      "\n",
      "Search parameters {'window_size': 46, 'skip': 11, 'population_size': 37, 'sigma': 0.5701303838452633, 'learning_rate': 0.02034681110956668, 'size_network': 684}\n",
      "time taken to train: 0.7427384853363037 seconds\n",
      "stop after 100 iteration with investment -49.609000\n",
      "   11 | 00m00s |  -49.60900 |          0.0203 |           36.7930 |    0.5701 |       684.0810 |   10.8227 |       45.9375 | \n",
      "\n",
      "Search parameters {'window_size': 18, 'skip': 11, 'population_size': 46, 'sigma': 0.02413248328873118, 'learning_rate': 0.1609841565008261, 'size_network': 973}\n",
      "stop after 100 iteration with investment 0.000000\n",
      "   12 | 00m00s |    0.00000 |          0.1610 |           46.3608 |    0.0241 |       973.2946 |   10.7125 |       18.0811 | \n",
      "\n",
      "Search parameters {'window_size': 38, 'skip': 14, 'population_size': 31, 'sigma': 0.035825320938743965, 'learning_rate': 0.4408335326325941, 'size_network': 420}\n",
      "stop after 100 iteration with investment 0.000000\n",
      "   13 | 00m00s |    0.00000 |          0.4408 |           30.9762 |    0.0358 |       420.0368 |   14.1527 |       38.4949 | \n",
      "\n",
      "Search parameters {'window_size': 21, 'skip': 12, 'population_size': 27, 'sigma': 0.8642342449487633, 'learning_rate': 0.2719117990798096, 'size_network': 914}\n",
      "time taken to train: 0.4095926284790039 seconds\n",
      "stop after 100 iteration with investment -19.460800\n",
      "   14 | 00m00s |  -19.46080 |          0.2719 |           26.6212 |    0.8642 |       914.3659 |   11.6393 |       20.7045 | \n",
      "\n",
      "Search parameters {'window_size': 13, 'skip': 7, 'population_size': 17, 'sigma': 0.7757355609124413, 'learning_rate': 0.18277018311280335, 'size_network': 826}\n",
      "time taken to train: 0.21741533279418945 seconds\n",
      "stop after 100 iteration with investment 0.000000\n",
      "   15 | 00m00s |    0.00000 |          0.1828 |           16.8690 |    0.7757 |       825.7215 |    7.0297 |       13.3732 | \n",
      "\n",
      "Search parameters {'window_size': 6, 'skip': 10, 'population_size': 22, 'sigma': 0.4104711097778309, 'learning_rate': 0.006063997795699945, 'size_network': 716}\n",
      "time taken to train: 0.11445736885070801 seconds\n",
      "stop after 100 iteration with investment 0.000000\n",
      "   16 | 00m00s |    0.00000 |          0.0061 |           22.3774 |    0.4105 |       716.4270 |   10.4598 |        5.9629 | \n",
      "\n",
      "Search parameters {'window_size': 45, 'skip': 12, 'population_size': 8, 'sigma': 0.11055125469733064, 'learning_rate': 0.346000615698215, 'size_network': 859}\n",
      "stop after 100 iteration with investment 0.000000\n",
      "   17 | 00m00s |    0.00000 |          0.3460 |            8.1518 |    0.1106 |       859.2495 |   11.5096 |       45.2971 | \n",
      "\n",
      "Search parameters {'window_size': 33, 'skip': 7, 'population_size': 33, 'sigma': 0.3049767557781941, 'learning_rate': 0.4174155337130164, 'size_network': 184}\n",
      "stop after 100 iteration with investment 0.000000\n",
      "   18 | 00m00s |    0.00000 |          0.4174 |           33.4717 |    0.3050 |       183.7235 |    7.4267 |       33.3280 | \n",
      "\n",
      "Search parameters {'window_size': 15, 'skip': 2, 'population_size': 45, 'sigma': 0.2242431484662362, 'learning_rate': 0.21914166703576768, 'size_network': 862}\n",
      "time taken to train: 0.8197593688964844 seconds\n",
      "stop after 100 iteration with investment 1.950497\n",
      "   19 | 00m00s | \u001b[35m   1.95050\u001b[0m | \u001b[32m         0.2191\u001b[0m | \u001b[32m          44.5200\u001b[0m | \u001b[32m   0.2242\u001b[0m | \u001b[32m      862.2084\u001b[0m | \u001b[32m   1.6719\u001b[0m | \u001b[32m      15.0135\u001b[0m | \n",
      "\n",
      "Search parameters {'window_size': 40, 'skip': 7, 'population_size': 34, 'sigma': 0.2787196834819731, 'learning_rate': 0.26004069731686896, 'size_network': 530}\n",
      "time taken to train: 0.8071804046630859 seconds\n",
      "stop after 100 iteration with investment 0.359800\n",
      "   20 | 00m00s |    0.35980 |          0.2600 |           34.3201 |    0.2787 |       530.3599 |    7.1600 |       39.7054 | \n",
      "\n",
      "Search parameters {'window_size': 38, 'skip': 11, 'population_size': 2, 'sigma': 0.1306318380200425, 'learning_rate': 0.2719153445723017, 'size_network': 841}\n",
      "stop after 100 iteration with investment 0.000000\n",
      "   21 | 00m00s |    0.00000 |          0.2719 |            1.7784 |    0.1306 |       841.1659 |   11.3513 |       37.7896 | \n",
      "\n",
      "Search parameters {'window_size': 31, 'skip': 12, 'population_size': 47, 'sigma': 0.1465581476044633, 'learning_rate': 0.2657452393129198, 'size_network': 800}\n",
      "stop after 100 iteration with investment 0.000000\n",
      "   22 | 00m00s |    0.00000 |          0.2657 |           47.4503 |    0.1466 |       799.6127 |   12.3275 |       31.0100 | \n",
      "\n",
      "Search parameters {'window_size': 40, 'skip': 7, 'population_size': 46, 'sigma': 0.2380049928756814, 'learning_rate': 0.16362110188833967, 'size_network': 826}\n",
      "time taken to train: 0.9847455024719238 seconds\n",
      "stop after 100 iteration with investment 0.907600\n",
      "   23 | 00m00s |    0.90760 |          0.1636 |           45.6132 |    0.2380 |       826.3197 |    6.7921 |       39.8035 | \n",
      "\n",
      "Search parameters {'window_size': 33, 'skip': 2, 'population_size': 6, 'sigma': 0.3935817857463256, 'learning_rate': 0.32051442321311957, 'size_network': 344}\n",
      "time taken to train: 0.13326811790466309 seconds\n",
      "stop after 100 iteration with investment 2.282400\n",
      "   24 | 00m00s | \u001b[35m   2.28240\u001b[0m | \u001b[32m         0.3205\u001b[0m | \u001b[32m           5.7183\u001b[0m | \u001b[32m   0.3936\u001b[0m | \u001b[32m      343.9064\u001b[0m | \u001b[32m   1.8913\u001b[0m | \u001b[32m      32.8782\u001b[0m | \n",
      "\n",
      "Search parameters {'window_size': 8, 'skip': 7, 'population_size': 27, 'sigma': 0.37703074707222634, 'learning_rate': 0.3597008825793852, 'size_network': 878}\n",
      "stop after 100 iteration with investment 0.000000\n",
      "   25 | 00m00s |    0.00000 |          0.3597 |           27.0361 |    0.3770 |       878.0052 |    6.6528 |        8.0098 | \n",
      "\n",
      "Search parameters {'window_size': 45, 'skip': 3, 'population_size': 22, 'sigma': 0.692173516038443, 'learning_rate': 0.04559350247162504, 'size_network': 341}\n",
      "time taken to train: 0.6802737712860107 seconds\n",
      "stop after 100 iteration with investment 0.372399\n",
      "   26 | 00m00s |    0.37240 |          0.0456 |           21.7149 |    0.6922 |       341.2643 |    3.1722 |       45.0426 | \n",
      "\n",
      "Search parameters {'window_size': 43, 'skip': 5, 'population_size': 42, 'sigma': 0.28159266059192467, 'learning_rate': 0.3705986604554016, 'size_network': 456}\n"
     ]
    },
    {
     "name": "stdout",
     "output_type": "stream",
     "text": [
      "time taken to train: 0.7089459896087646 seconds\n",
      "stop after 100 iteration with investment 2.970298\n",
      "   27 | 00m00s | \u001b[35m   2.97030\u001b[0m | \u001b[32m         0.3706\u001b[0m | \u001b[32m          41.6542\u001b[0m | \u001b[32m   0.2816\u001b[0m | \u001b[32m      455.7366\u001b[0m | \u001b[32m   4.5550\u001b[0m | \u001b[32m      43.3324\u001b[0m | \n",
      "\n",
      "Search parameters {'window_size': 46, 'skip': 12, 'population_size': 2, 'sigma': 0.9788476729330938, 'learning_rate': 0.00019375307591891922, 'size_network': 396}\n",
      "stop after 100 iteration with investment 0.000000\n",
      "   28 | 00m00s |    0.00000 |          0.0002 |            2.1578 |    0.9788 |       396.4372 |   11.7259 |       45.7265 | \n",
      "\n",
      "Search parameters {'window_size': 47, 'skip': 9, 'population_size': 30, 'sigma': 0.7706972021758618, 'learning_rate': 0.415656558008011, 'size_network': 716}\n",
      "time taken to train: 0.69107985496521 seconds\n",
      "stop after 100 iteration with investment 0.000000\n",
      "   29 | 00m00s |    0.00000 |          0.4157 |           30.3610 |    0.7707 |       716.2709 |    9.3417 |       47.1898 | \n",
      "\n",
      "Search parameters {'window_size': 36, 'skip': 3, 'population_size': 29, 'sigma': 0.0870222416769199, 'learning_rate': 0.3349731237642105, 'size_network': 788}\n",
      "time taken to train: 0.7398040294647217 seconds\n",
      "stop after 100 iteration with investment -45.384000\n",
      "   30 | 00m00s |  -45.38400 |          0.3350 |           28.6860 |    0.0870 |       788.4020 |    3.3452 |       35.9409 | \n",
      "\u001b[31mBayesian Optimization\u001b[0m\n",
      "\u001b[94m----------------------------------------------------------------------------------------------------------------------------\u001b[0m\n",
      " Step |   Time |      Value |   learning_rate |   population_size |     sigma |   size_network |      skip |   window_size | \n",
      "\n",
      "Search parameters {'window_size': 48, 'skip': 14, 'population_size': 10, 'sigma': 0.027806487075865506, 'learning_rate': 0.042436688798203795, 'size_network': 783}\n",
      "stop after 100 iteration with investment 0.000000\n",
      "   31 | 00m01s |    0.00000 |          0.0424 |            9.6046 |    0.0278 |       782.8661 |   14.4188 |       48.1629 | \n"
     ]
    },
    {
     "name": "stderr",
     "output_type": "stream",
     "text": [
      "/home/tensortom/.local/share/virtualenvs/agent-MVd_fBYN/lib/python3.7/site-packages/ipykernel_launcher.py:39: RuntimeWarning: invalid value encountered in true_divide\n"
     ]
    },
    {
     "name": "stdout",
     "output_type": "stream",
     "text": [
      "\n",
      "Search parameters {'window_size': 42, 'skip': 2, 'population_size': 41, 'sigma': 0.10408478032941078, 'learning_rate': 0.4486513537620675, 'size_network': 455}\n"
     ]
    },
    {
     "name": "stderr",
     "output_type": "stream",
     "text": [
      "/home/tensortom/.local/share/virtualenvs/agent-MVd_fBYN/lib/python3.7/site-packages/ipykernel_launcher.py:39: RuntimeWarning: invalid value encountered in true_divide\n"
     ]
    },
    {
     "name": "stdout",
     "output_type": "stream",
     "text": [
      "stop after 100 iteration with investment 0.000000\n",
      "   32 | 00m01s |    0.00000 |          0.4487 |           40.6926 |    0.1041 |       455.4371 |    2.1124 |       42.4865 | \n",
      "\n",
      "Search parameters {'window_size': 49, 'skip': 15, 'population_size': 1, 'sigma': 0.6202540810418634, 'learning_rate': 0.21987393144493744, 'size_network': 993}\n",
      "stop after 100 iteration with investment 0.000000\n",
      "   33 | 00m00s |    0.00000 |          0.2199 |            1.1427 |    0.6203 |       992.9840 |   14.5594 |       49.4643 | \n"
     ]
    },
    {
     "name": "stderr",
     "output_type": "stream",
     "text": [
      "/home/tensortom/.local/share/virtualenvs/agent-MVd_fBYN/lib/python3.7/site-packages/ipykernel_launcher.py:39: RuntimeWarning: invalid value encountered in true_divide\n"
     ]
    },
    {
     "name": "stdout",
     "output_type": "stream",
     "text": [
      "\n",
      "Search parameters {'window_size': 34, 'skip': 2, 'population_size': 6, 'sigma': 0.43830124099383583, 'learning_rate': 0.27745105938836157, 'size_network': 648}\n",
      "time taken to train: 0.14493894577026367 seconds\n",
      "stop after 100 iteration with investment 1.873999\n",
      "   34 | 00m00s |    1.87400 |          0.2775 |            5.8466 |    0.4383 |       648.0298 |    2.0205 |       33.8783 | \n",
      "\n",
      "Search parameters {'window_size': 14, 'skip': 13, 'population_size': 24, 'sigma': 0.19302663305348625, 'learning_rate': 0.009861630155537421, 'size_network': 35}\n",
      "time taken to train: 0.015878677368164062 seconds\n",
      "stop after 100 iteration with investment -19.377200\n",
      "   35 | 00m00s |  -19.37720 |          0.0099 |           23.7022 |    0.1930 |        34.9594 |   13.3023 |       14.2639 | \n",
      "\n",
      "Search parameters {'window_size': 11, 'skip': 9, 'population_size': 22, 'sigma': 0.6966382009684797, 'learning_rate': 0.10845251551482414, 'size_network': 436}\n",
      "time taken to train: 0.06536984443664551 seconds\n",
      "stop after 100 iteration with investment 0.000000\n",
      "   36 | 00m00s |    0.00000 |          0.1085 |           21.9371 |    0.6966 |       435.5471 |    8.5655 |       10.7845 | \n",
      "\n",
      "Search parameters {'window_size': 40, 'skip': 11, 'population_size': 22, 'sigma': 0.6680512143543265, 'learning_rate': 0.25228509063855475, 'size_network': 537}\n",
      "time taken to train: 0.3215923309326172 seconds\n",
      "stop after 100 iteration with investment 0.000000\n",
      "   37 | 00m01s |    0.00000 |          0.2523 |           22.3494 |    0.6681 |       537.1764 |   10.8658 |       39.7181 | \n",
      "\n",
      "Search parameters {'window_size': 39, 'skip': 10, 'population_size': 17, 'sigma': 0.4255046740916911, 'learning_rate': 0.3144857696580136, 'size_network': 410}\n",
      "time taken to train: 0.22164297103881836 seconds\n",
      "stop after 100 iteration with investment 1.255499\n",
      "   38 | 00m01s |    1.25550 |          0.3145 |           17.3678 |    0.4255 |       409.7904 |    9.5052 |       38.8063 | \n",
      "\n",
      "Search parameters {'window_size': 7, 'skip': 10, 'population_size': 43, 'sigma': 0.38261004481446487, 'learning_rate': 0.2466473907166568, 'size_network': 959}\n",
      "time taken to train: 0.1800551414489746 seconds\n",
      "stop after 100 iteration with investment 1.255499\n",
      "   39 | 00m01s |    1.25550 |          0.2466 |           43.1883 |    0.3826 |       959.3366 |   10.3751 |        6.7575 | \n",
      "\n",
      "Search parameters {'window_size': 24, 'skip': 2, 'population_size': 28, 'sigma': 0.9069133425927507, 'learning_rate': 0.3009137505843973, 'size_network': 304}\n",
      "time taken to train: 0.12947702407836914 seconds\n",
      "stop after 100 iteration with investment -0.214402\n",
      "   40 | 00m01s |   -0.21440 |          0.3009 |           27.5870 |    0.9069 |       303.8031 |    2.0511 |       23.7636 | \n",
      "\n",
      "Search parameters {'window_size': 49, 'skip': 6, 'population_size': 2, 'sigma': 0.2952101178032728, 'learning_rate': 0.2408896458474251, 'size_network': 528}\n",
      "stop after 100 iteration with investment 0.000000\n",
      "   41 | 00m00s |    0.00000 |          0.2409 |            2.4299 |    0.2952 |       528.2223 |    5.9007 |       48.5183 | \n"
     ]
    },
    {
     "name": "stderr",
     "output_type": "stream",
     "text": [
      "/home/tensortom/.local/share/virtualenvs/agent-MVd_fBYN/lib/python3.7/site-packages/ipykernel_launcher.py:39: RuntimeWarning: invalid value encountered in true_divide\n"
     ]
    },
    {
     "name": "stdout",
     "output_type": "stream",
     "text": [
      "\n",
      "Search parameters {'window_size': 17, 'skip': 11, 'population_size': 13, 'sigma': 0.10430495324849308, 'learning_rate': 0.005865821939026804, 'size_network': 199}\n",
      "time taken to train: 0.027141332626342773 seconds\n",
      "stop after 100 iteration with investment -9.921800\n",
      "   42 | 00m00s |   -9.92180 |          0.0059 |           12.9413 |    0.1043 |       199.0693 |   10.7184 |       17.0307 | \n",
      "\n",
      "Search parameters {'window_size': 42, 'skip': 5, 'population_size': 15, 'sigma': 0.03088286614784621, 'learning_rate': 0.36176269274404005, 'size_network': 867}\n"
     ]
    },
    {
     "name": "stderr",
     "output_type": "stream",
     "text": [
      "/home/tensortom/.local/share/virtualenvs/agent-MVd_fBYN/lib/python3.7/site-packages/ipykernel_launcher.py:39: RuntimeWarning: invalid value encountered in true_divide\n"
     ]
    },
    {
     "name": "stdout",
     "output_type": "stream",
     "text": [
      "stop after 100 iteration with investment 0.000000\n",
      "   43 | 00m01s |    0.00000 |          0.3618 |           15.3820 |    0.0309 |       866.9639 |    5.1042 |       41.8177 | \n",
      "\n",
      "Search parameters {'window_size': 29, 'skip': 5, 'population_size': 10, 'sigma': 0.40789387571911656, 'learning_rate': 0.1387042090991933, 'size_network': 464}\n",
      "time taken to train: 0.10807418823242188 seconds\n",
      "stop after 100 iteration with investment 1.186499\n",
      "   44 | 00m00s |    1.18650 |          0.1387 |            9.5920 |    0.4079 |       463.7934 |    5.3525 |       29.4368 | \n",
      "\n",
      "Search parameters {'window_size': 31, 'skip': 9, 'population_size': 45, 'sigma': 0.6044327243420167, 'learning_rate': 0.40284454401818903, 'size_network': 229}\n",
      "time taken to train: 0.15120458602905273 seconds\n",
      "stop after 100 iteration with investment 0.364100\n",
      "   45 | 00m00s |    0.36410 |          0.4028 |           44.9794 |    0.6044 |       229.3386 |    8.5762 |       31.3901 | \n",
      "\n",
      "Search parameters {'window_size': 45, 'skip': 3, 'population_size': 21, 'sigma': 0.3336938556956016, 'learning_rate': 0.020510703222779134, 'size_network': 341}\n",
      "time taken to train: 0.36162567138671875 seconds\n",
      "stop after 100 iteration with investment -29.322000\n",
      "   46 | 00m01s |  -29.32200 |          0.0205 |           21.4122 |    0.3337 |       341.0839 |    2.5858 |       44.7999 | \n",
      "\n",
      "Search parameters {'window_size': 45, 'skip': 6, 'population_size': 49, 'sigma': 0.6621232775076534, 'learning_rate': 0.2842349659176168, 'size_network': 289}\n",
      "time taken to train: 0.538651704788208 seconds\n",
      "stop after 100 iteration with investment 0.000000\n",
      "   47 | 00m01s |    0.00000 |          0.2842 |           49.2102 |    0.6621 |       288.9998 |    5.5672 |       45.1517 | \n",
      "\n",
      "Search parameters {'window_size': 49, 'skip': 8, 'population_size': 33, 'sigma': 0.03852146338069097, 'learning_rate': 0.1898625979175386, 'size_network': 731}\n"
     ]
    },
    {
     "name": "stderr",
     "output_type": "stream",
     "text": [
      "/home/tensortom/.local/share/virtualenvs/agent-MVd_fBYN/lib/python3.7/site-packages/ipykernel_launcher.py:39: RuntimeWarning: invalid value encountered in true_divide\n"
     ]
    },
    {
     "name": "stdout",
     "output_type": "stream",
     "text": [
      "stop after 100 iteration with investment 0.000000\n",
      "   48 | 00m01s |    0.00000 |          0.1899 |           33.2294 |    0.0385 |       730.8989 |    7.7821 |       49.3396 | \n",
      "\n",
      "Search parameters {'window_size': 21, 'skip': 15, 'population_size': 25, 'sigma': 0.1053501118035506, 'learning_rate': 0.22285821640118378, 'size_network': 161}\n",
      "stop after 100 iteration with investment 0.000000\n",
      "   49 | 00m00s |    0.00000 |          0.2229 |           25.2810 |    0.1054 |       161.3373 |   14.5821 |       20.5340 | \n"
     ]
    },
    {
     "name": "stderr",
     "output_type": "stream",
     "text": [
      "/home/tensortom/.local/share/virtualenvs/agent-MVd_fBYN/lib/python3.7/site-packages/ipykernel_launcher.py:39: RuntimeWarning: invalid value encountered in true_divide\n"
     ]
    },
    {
     "name": "stdout",
     "output_type": "stream",
     "text": [
      "\n",
      "Search parameters {'window_size': 22, 'skip': 6, 'population_size': 2, 'sigma': 0.8814237841061968, 'learning_rate': 0.41394940429001964, 'size_network': 195}\n",
      "stop after 100 iteration with investment 0.000000\n",
      "   50 | 00m00s |    0.00000 |          0.4139 |            2.1278 |    0.8814 |       195.3876 |    6.0402 |       21.9712 | \n"
     ]
    },
    {
     "name": "stderr",
     "output_type": "stream",
     "text": [
      "/home/tensortom/.local/share/virtualenvs/agent-MVd_fBYN/lib/python3.7/site-packages/ipykernel_launcher.py:39: RuntimeWarning: invalid value encountered in true_divide\n"
     ]
    },
    {
     "name": "stdout",
     "output_type": "stream",
     "text": [
      "\n",
      "Search parameters {'window_size': 43, 'skip': 2, 'population_size': 47, 'sigma': 0.11227278850549602, 'learning_rate': 0.05350293097148886, 'size_network': 217}\n",
      "time taken to train: 0.606391429901123 seconds\n",
      "stop after 100 iteration with investment -48.169202\n",
      "   51 | 00m01s |  -48.16920 |          0.0535 |           47.3108 |    0.1123 |       216.7404 |    1.5451 |       42.5669 | \n",
      "\n",
      "Search parameters {'window_size': 4, 'skip': 9, 'population_size': 44, 'sigma': 0.18297055560069847, 'learning_rate': 0.10396607963901754, 'size_network': 308}\n",
      "stop after 100 iteration with investment 0.000000\n",
      "   52 | 00m00s |    0.00000 |          0.1040 |           43.7109 |    0.1830 |       307.5803 |    9.4399 |        3.9531 | \n"
     ]
    },
    {
     "name": "stderr",
     "output_type": "stream",
     "text": [
      "/home/tensortom/.local/share/virtualenvs/agent-MVd_fBYN/lib/python3.7/site-packages/ipykernel_launcher.py:39: RuntimeWarning: invalid value encountered in true_divide\n"
     ]
    },
    {
     "name": "stdout",
     "output_type": "stream",
     "text": [
      "\n",
      "Search parameters {'window_size': 21, 'skip': 14, 'population_size': 2, 'sigma': 0.11688668062342686, 'learning_rate': 0.29467478285981097, 'size_network': 751}\n",
      "stop after 100 iteration with investment 0.000000\n",
      "   53 | 00m00s |    0.00000 |          0.2947 |            2.3942 |    0.1169 |       751.0246 |   14.1013 |       20.5570 | \n"
     ]
    },
    {
     "name": "stderr",
     "output_type": "stream",
     "text": [
      "/home/tensortom/.local/share/virtualenvs/agent-MVd_fBYN/lib/python3.7/site-packages/ipykernel_launcher.py:39: RuntimeWarning: invalid value encountered in true_divide\n"
     ]
    },
    {
     "name": "stdout",
     "output_type": "stream",
     "text": [
      "\n",
      "Search parameters {'window_size': 32, 'skip': 8, 'population_size': 31, 'sigma': 0.11883345682516826, 'learning_rate': 0.24097505296444405, 'size_network': 544}\n",
      "stop after 100 iteration with investment 0.000000\n",
      "   54 | 00m00s |    0.00000 |          0.2410 |           30.9775 |    0.1188 |       544.4329 |    7.6485 |       31.6289 | \n"
     ]
    },
    {
     "name": "stderr",
     "output_type": "stream",
     "text": [
      "/home/tensortom/.local/share/virtualenvs/agent-MVd_fBYN/lib/python3.7/site-packages/ipykernel_launcher.py:39: RuntimeWarning: invalid value encountered in true_divide\n"
     ]
    },
    {
     "name": "stdout",
     "output_type": "stream",
     "text": [
      "\n",
      "Search parameters {'window_size': 26, 'skip': 14, 'population_size': 46, 'sigma': 0.3036359970088697, 'learning_rate': 0.47030230666772044, 'size_network': 979}\n",
      "stop after 100 iteration with investment 0.000000\n",
      "   55 | 00m01s |    0.00000 |          0.4703 |           46.0774 |    0.3036 |       979.1958 |   14.2471 |       25.7805 | \n"
     ]
    },
    {
     "name": "stderr",
     "output_type": "stream",
     "text": [
      "/home/tensortom/.local/share/virtualenvs/agent-MVd_fBYN/lib/python3.7/site-packages/ipykernel_launcher.py:39: RuntimeWarning: invalid value encountered in true_divide\n"
     ]
    },
    {
     "name": "stdout",
     "output_type": "stream",
     "text": [
      "\n",
      "Search parameters {'window_size': 7, 'skip': 11, 'population_size': 20, 'sigma': 0.4629832356630256, 'learning_rate': 0.37980320725984795, 'size_network': 656}\n",
      "time taken to train: 0.06075406074523926 seconds\n",
      "stop after 100 iteration with investment 1.945499\n",
      "   56 | 00m01s |    1.94550 |          0.3798 |           19.6819 |    0.4630 |       655.8920 |   11.0659 |        6.5575 | \n",
      "\n",
      "Search parameters {'window_size': 10, 'skip': 4, 'population_size': 40, 'sigma': 0.6734183045436068, 'learning_rate': 0.32032797683118325, 'size_network': 631}\n",
      "time taken to train: 0.16826486587524414 seconds\n",
      "stop after 100 iteration with investment 0.256200\n",
      "   57 | 00m01s |    0.25620 |          0.3203 |           40.4360 |    0.6734 |       630.5194 |    4.4835 |        9.9095 | \n",
      "\n",
      "Search parameters {'window_size': 16, 'skip': 8, 'population_size': 42, 'sigma': 0.5209032914940936, 'learning_rate': 0.3247269502435866, 'size_network': 140}\n",
      "time taken to train: 0.06293463706970215 seconds\n",
      "stop after 100 iteration with investment 0.000000\n",
      "   58 | 00m00s |    0.00000 |          0.3247 |           41.7547 |    0.5209 |       139.5142 |    7.6776 |       15.9041 | \n"
     ]
    },
    {
     "name": "stderr",
     "output_type": "stream",
     "text": [
      "/home/tensortom/.local/share/virtualenvs/agent-MVd_fBYN/lib/python3.7/site-packages/ipykernel_launcher.py:39: RuntimeWarning: invalid value encountered in true_divide\n"
     ]
    },
    {
     "name": "stdout",
     "output_type": "stream",
     "text": [
      "\n",
      "Search parameters {'window_size': 35, 'skip': 1, 'population_size': 14, 'sigma': 0.5475886059381949, 'learning_rate': 0.47240831316710347, 'size_network': 401}\n",
      "time taken to train: 0.352374792098999 seconds\n",
      "stop after 100 iteration with investment 2.860501\n",
      "   59 | 00m01s |    2.86050 |          0.4724 |           13.5627 |    0.5476 |       401.2032 |    1.2542 |       34.8775 | \n",
      "\n",
      "Search parameters {'window_size': 22, 'skip': 3, 'population_size': 2, 'sigma': 0.7142327655358844, 'learning_rate': 0.46249893851685603, 'size_network': 477}\n",
      "time taken to train: 0.03290247917175293 seconds\n",
      "stop after 100 iteration with investment -48.723004\n",
      "   60 | 00m00s |  -48.72300 |          0.4625 |            2.3961 |    0.7142 |       477.1790 |    3.0844 |       21.8606 | \n",
      "\n",
      "Search parameters {'window_size': 42, 'skip': 3, 'population_size': 32, 'sigma': 0.5663881219718352, 'learning_rate': 0.356773849924521, 'size_network': 939}\n",
      "time taken to train: 0.947390079498291 seconds\n",
      "stop after 100 iteration with investment 1.976999\n",
      "   61 | 00m01s |    1.97700 |          0.3568 |           31.8973 |    0.5664 |       938.8950 |    3.0552 |       41.9381 | \n",
      "\n",
      "Search parameters {'window_size': 46, 'skip': 9, 'population_size': 5, 'sigma': 0.27333255880975443, 'learning_rate': 0.11255964970629398, 'size_network': 279}\n",
      "time taken to train: 0.046150922775268555 seconds\n",
      "stop after 100 iteration with investment 0.964499\n",
      "   62 | 00m00s |    0.96450 |          0.1126 |            5.1452 |    0.2733 |       278.6595 |    9.4162 |       45.9371 | \n",
      "\n",
      "Search parameters {'window_size': 10, 'skip': 9, 'population_size': 23, 'sigma': 0.3137024392834936, 'learning_rate': 0.024195717075848066, 'size_network': 497}\n",
      "time taken to train: 0.06796526908874512 seconds\n",
      "stop after 100 iteration with investment 0.364100\n",
      "   63 | 00m00s |    0.36410 |          0.0242 |           23.0355 |    0.3137 |       496.5941 |    8.8749 |        9.9241 | \n",
      "\n",
      "Search parameters {'window_size': 49, 'skip': 13, 'population_size': 6, 'sigma': 0.4189031086049323, 'learning_rate': 0.409004178169898, 'size_network': 86}\n",
      "stop after 100 iteration with investment 0.000000\n",
      "   64 | 00m00s |    0.00000 |          0.4090 |            5.5949 |    0.4189 |        85.6257 |   13.1268 |       49.1706 | \n"
     ]
    },
    {
     "name": "stderr",
     "output_type": "stream",
     "text": [
      "/home/tensortom/.local/share/virtualenvs/agent-MVd_fBYN/lib/python3.7/site-packages/ipykernel_launcher.py:39: RuntimeWarning: invalid value encountered in true_divide\n"
     ]
    },
    {
     "name": "stdout",
     "output_type": "stream",
     "text": [
      "\n",
      "Search parameters {'window_size': 17, 'skip': 14, 'population_size': 34, 'sigma': 0.49750393134463805, 'learning_rate': 0.48318833905766523, 'size_network': 679}\n",
      "time taken to train: 0.2899789810180664 seconds\n",
      "stop after 100 iteration with investment 1.746500\n",
      "   65 | 00m01s |    1.74650 |          0.4832 |           34.2620 |    0.4975 |       678.5700 |   13.8306 |       17.1022 | \n",
      "\n",
      "Search parameters {'window_size': 20, 'skip': 13, 'population_size': 12, 'sigma': 0.2677505555040951, 'learning_rate': 0.2988213357371725, 'size_network': 513}\n",
      "time taken to train: 0.09674620628356934 seconds\n",
      "stop after 100 iteration with investment 0.000000\n",
      "   66 | 00m01s |    0.00000 |          0.2988 |           12.3456 |    0.2678 |       513.4665 |   12.6018 |       19.9735 | \n"
     ]
    },
    {
     "name": "stderr",
     "output_type": "stream",
     "text": [
      "/home/tensortom/.local/share/virtualenvs/agent-MVd_fBYN/lib/python3.7/site-packages/ipykernel_launcher.py:39: RuntimeWarning: invalid value encountered in true_divide\n"
     ]
    },
    {
     "name": "stdout",
     "output_type": "stream",
     "text": [
      "\n",
      "Search parameters {'window_size': 3, 'skip': 8, 'population_size': 22, 'sigma': 0.09007732313120634, 'learning_rate': 0.24893057394164475, 'size_network': 516}\n",
      "stop after 100 iteration with investment 0.000000\n",
      "   67 | 00m00s |    0.00000 |          0.2489 |           22.0190 |    0.0901 |       516.1003 |    8.2922 |        3.3715 | \n"
     ]
    },
    {
     "name": "stderr",
     "output_type": "stream",
     "text": [
      "/home/tensortom/.local/share/virtualenvs/agent-MVd_fBYN/lib/python3.7/site-packages/ipykernel_launcher.py:39: RuntimeWarning: invalid value encountered in true_divide\n"
     ]
    },
    {
     "name": "stdout",
     "output_type": "stream",
     "text": [
      "\n",
      "Search parameters {'window_size': 30, 'skip': 6, 'population_size': 41, 'sigma': 0.4924855468186583, 'learning_rate': 0.21138718451010452, 'size_network': 978}\n",
      "time taken to train: 0.7557260990142822 seconds\n",
      "stop after 100 iteration with investment 0.000000\n",
      "   68 | 00m01s |    0.00000 |          0.2114 |           40.7746 |    0.4925 |       978.1183 |    6.3196 |       29.5701 | \n",
      "\n",
      "Search parameters {'window_size': 42, 'skip': 9, 'population_size': 46, 'sigma': 0.7861469630765041, 'learning_rate': 0.38541950566954314, 'size_network': 826}\n",
      "time taken to train: 0.9375734329223633 seconds\n",
      "stop after 100 iteration with investment 0.364100\n",
      "   69 | 00m01s |    0.36410 |          0.3854 |           45.7370 |    0.7861 |       826.2453 |    9.1447 |       42.4406 | \n",
      "\n",
      "Search parameters {'window_size': 18, 'skip': 5, 'population_size': 41, 'sigma': 0.8862382320403177, 'learning_rate': 0.13815491832095803, 'size_network': 768}\n",
      "time taken to train: 0.4493553638458252 seconds\n",
      "stop after 100 iteration with investment 0.000000\n",
      "   70 | 00m01s |    0.00000 |          0.1382 |           41.2624 |    0.8862 |       768.3715 |    5.2135 |       17.6829 | \n",
      "\n",
      "Search parameters {'window_size': 7, 'skip': 5, 'population_size': 17, 'sigma': 0.4295983685363548, 'learning_rate': 0.35052475430412916, 'size_network': 720}\n",
      "time taken to train: 0.06999683380126953 seconds\n",
      "stop after 100 iteration with investment 2.432999\n",
      "   71 | 00m01s |    2.43300 |          0.3505 |           16.5476 |    0.4296 |       720.3206 |    5.3284 |        7.3355 | \n",
      "\n",
      "Search parameters {'window_size': 41, 'skip': 7, 'population_size': 43, 'sigma': 0.4638537923612629, 'learning_rate': 0.31506789833671367, 'size_network': 129}\n",
      "time taken to train: 0.1170341968536377 seconds\n",
      "stop after 100 iteration with investment 0.000000\n",
      "   72 | 00m01s |    0.00000 |          0.3151 |           43.3032 |    0.4639 |       128.6401 |    6.8209 |       41.4352 | \n"
     ]
    },
    {
     "name": "stderr",
     "output_type": "stream",
     "text": [
      "/home/tensortom/.local/share/virtualenvs/agent-MVd_fBYN/lib/python3.7/site-packages/ipykernel_launcher.py:39: RuntimeWarning: invalid value encountered in true_divide\n"
     ]
    },
    {
     "name": "stdout",
     "output_type": "stream",
     "text": [
      "\n",
      "Search parameters {'window_size': 35, 'skip': 12, 'population_size': 38, 'sigma': 0.0900743387466703, 'learning_rate': 0.20718429670568858, 'size_network': 789}\n",
      "stop after 100 iteration with investment 0.000000\n",
      "   73 | 00m01s |    0.00000 |          0.2072 |           37.8895 |    0.0901 |       789.4300 |   12.2552 |       34.7789 | \n"
     ]
    },
    {
     "name": "stderr",
     "output_type": "stream",
     "text": [
      "/home/tensortom/.local/share/virtualenvs/agent-MVd_fBYN/lib/python3.7/site-packages/ipykernel_launcher.py:39: RuntimeWarning: invalid value encountered in true_divide\n"
     ]
    },
    {
     "name": "stdout",
     "output_type": "stream",
     "text": [
      "\n",
      "Search parameters {'window_size': 23, 'skip': 6, 'population_size': 20, 'sigma': 0.9505330128929653, 'learning_rate': 0.45196452472173765, 'size_network': 733}\n",
      "time taken to train: 0.5255038738250732 seconds\n",
      "stop after 100 iteration with investment 0.000000\n",
      "   74 | 00m01s |    0.00000 |          0.4520 |           20.0279 |    0.9505 |       732.5975 |    6.4902 |       22.8761 | \n",
      "\n",
      "Search parameters {'window_size': 47, 'skip': 1, 'population_size': 17, 'sigma': 0.3852091000534731, 'learning_rate': 0.3346920792050733, 'size_network': 129}\n",
      "time taken to train: 0.10645508766174316 seconds\n",
      "stop after 100 iteration with investment 2.791001\n",
      "   75 | 00m01s |    2.79100 |          0.3347 |           16.7895 |    0.3852 |       129.3253 |    1.4396 |       46.8093 | \n",
      "\n",
      "Search parameters {'window_size': 24, 'skip': 11, 'population_size': 34, 'sigma': 0.02874493001237998, 'learning_rate': 0.13607986886368126, 'size_network': 302}\n",
      "stop after 100 iteration with investment 0.000000\n",
      "   76 | 00m01s |    0.00000 |          0.1361 |           34.3105 |    0.0287 |       301.9267 |   11.4450 |       23.9152 | \n"
     ]
    },
    {
     "name": "stderr",
     "output_type": "stream",
     "text": [
      "/home/tensortom/.local/share/virtualenvs/agent-MVd_fBYN/lib/python3.7/site-packages/ipykernel_launcher.py:39: RuntimeWarning: invalid value encountered in true_divide\n"
     ]
    },
    {
     "name": "stdout",
     "output_type": "stream",
     "text": [
      "\n",
      "Search parameters {'window_size': 5, 'skip': 9, 'population_size': 27, 'sigma': 0.736629932616964, 'learning_rate': 0.3024823066148386, 'size_network': 320}\n",
      "time taken to train: 0.04157829284667969 seconds\n",
      "stop after 100 iteration with investment 0.000000\n",
      "   77 | 00m01s |    0.00000 |          0.3025 |           26.6039 |    0.7366 |       320.3396 |    8.7092 |        5.2520 | \n",
      "\n",
      "Search parameters {'window_size': 40, 'skip': 7, 'population_size': 30, 'sigma': 0.7900040379815461, 'learning_rate': 0.1771015923003528, 'size_network': 260}\n",
      "time taken to train: 0.24851465225219727 seconds\n",
      "stop after 100 iteration with investment 0.000000\n",
      "   78 | 00m01s |    0.00000 |          0.1771 |           29.8811 |    0.7900 |       259.9906 |    7.4029 |       39.8241 | \n",
      "\n",
      "Search parameters {'window_size': 24, 'skip': 4, 'population_size': 4, 'sigma': 0.1805618759961537, 'learning_rate': 0.38108165473366873, 'size_network': 994}\n",
      "stop after 100 iteration with investment 0.000000\n",
      "   79 | 00m01s |    0.00000 |          0.3811 |            4.2578 |    0.1806 |       994.0205 |    4.3060 |       24.3693 | \n"
     ]
    },
    {
     "name": "stderr",
     "output_type": "stream",
     "text": [
      "/home/tensortom/.local/share/virtualenvs/agent-MVd_fBYN/lib/python3.7/site-packages/ipykernel_launcher.py:39: RuntimeWarning: invalid value encountered in true_divide\n"
     ]
    },
    {
     "name": "stdout",
     "output_type": "stream",
     "text": [
      "\n",
      "Search parameters {'window_size': 15, 'skip': 15, 'population_size': 2, 'sigma': 0.5979653657474536, 'learning_rate': 0.19592618408670315, 'size_network': 518}\n",
      "stop after 100 iteration with investment 0.000000\n",
      "   80 | 00m01s |    0.00000 |          0.1959 |            2.1262 |    0.5980 |       517.5779 |   14.5137 |       15.1907 | \n"
     ]
    },
    {
     "name": "stderr",
     "output_type": "stream",
     "text": [
      "/home/tensortom/.local/share/virtualenvs/agent-MVd_fBYN/lib/python3.7/site-packages/ipykernel_launcher.py:39: RuntimeWarning: invalid value encountered in true_divide\n"
     ]
    }
   ],
   "source": [
    "accbest = 0.0\n",
    "NN_BAYESIAN = BayesianOptimization(\n",
    "    find_best_agent,\n",
    "    {\n",
    "        'window_size': (2, 50),\n",
    "        'skip': (1, 15),\n",
    "        'population_size': (1, 50),\n",
    "        'sigma': (0.01, 0.99),\n",
    "        'learning_rate': (0.000001, 0.49),\n",
    "        'size_network': (10, 1000),\n",
    "    },\n",
    ")\n",
    "NN_BAYESIAN.maximize(init_points = 30, n_iter = 50, acq = 'ei', xi = 0.0)"
   ]
  },
  {
   "cell_type": "code",
   "execution_count": 10,
   "metadata": {},
   "outputs": [
    {
     "name": "stdout",
     "output_type": "stream",
     "text": [
      "Best AGENT accuracy value: 2.970298\n",
      "Best AGENT parameters:  {'window_size': 43.33243057107037, 'skip': 4.55503297305148, 'population_size': 41.65417279935052, 'sigma': 0.28159266059192467, 'learning_rate': 0.3705986604554016, 'size_network': 455.7366319925798}\n"
     ]
    }
   ],
   "source": [
    "print('Best AGENT accuracy value: %f' % NN_BAYESIAN.res['max']['max_val'])\n",
    "print('Best AGENT parameters: ', NN_BAYESIAN.res['max']['max_params'])"
   ]
  },
  {
   "cell_type": "code",
   "execution_count": 11,
   "metadata": {},
   "outputs": [
    {
     "name": "stdout",
     "output_type": "stream",
     "text": [
      "{'learning_rate': 0.3705986604554016,\n",
      " 'population_size': 42,\n",
      " 'sigma': 0.28159266059192467,\n",
      " 'size_network': 456,\n",
      " 'skip': 5,\n",
      " 'window_size': 43}\n"
     ]
    }
   ],
   "source": [
    "bayes_res = str(NN_BAYESIAN.res['max']['max_params'])\n",
    "bayes_res = json.loads(bayes_res.replace(\"'\", \"\\\"\"))\n",
    "bayes_res['window_size'] = int(round(bayes_res['window_size']))\n",
    "bayes_res['skip'] = int(round(bayes_res['skip']))\n",
    "bayes_res['population_size'] = int(round(bayes_res['population_size']))\n",
    "bayes_res['size_network'] = int(round(bayes_res['size_network']))\n",
    "pprint(bayes_res)"
   ]
  },
  {
   "cell_type": "code",
   "execution_count": 12,
   "metadata": {},
   "outputs": [
    {
     "name": "stdout",
     "output_type": "stream",
     "text": [
      "time taken to train: 0.7401294708251953 seconds\n"
     ]
    },
    {
     "data": {
      "text/plain": [
       "2.4318994100000237"
      ]
     },
     "execution_count": 12,
     "metadata": {},
     "output_type": "execute_result"
    }
   ],
   "source": [
    "# this is my parameter\n",
    "best_agent(30, 1, 15, 0.1, 0.03, 500)"
   ]
  },
  {
   "cell_type": "code",
   "execution_count": 13,
   "metadata": {},
   "outputs": [
    {
     "name": "stdout",
     "output_type": "stream",
     "text": [
      "time taken to train: 0.6380605697631836 seconds\n"
     ]
    },
    {
     "data": {
      "text/plain": [
       "0.8894995000000017"
      ]
     },
     "execution_count": 13,
     "metadata": {},
     "output_type": "execute_result"
    }
   ],
   "source": [
    "# this is from bayesian\n",
    "best_agent(bayes_res['window_size'], bayes_res['skip'], bayes_res['population_size'], bayes_res['sigma'], bayes_res['learning_rate'], bayes_res['size_network'])"
   ]
  },
  {
   "cell_type": "code",
   "execution_count": 15,
   "metadata": {},
   "outputs": [
    {
     "ename": "ValueError",
     "evalue": "shapes (1,43) and (30,500) not aligned: 43 (dim 1) != 30 (dim 0)",
     "output_type": "error",
     "traceback": [
      "\u001b[0;31m---------------------------------------------------------------------------\u001b[0m",
      "\u001b[0;31mValueError\u001b[0m                                Traceback (most recent call last)",
      "\u001b[0;32m<ipython-input-15-f0023ec623a4>\u001b[0m in \u001b[0;36m<module>\u001b[0;34m\u001b[0m\n\u001b[1;32m      2\u001b[0m \u001b[0mmodel\u001b[0m \u001b[0;34m=\u001b[0m \u001b[0mModel\u001b[0m\u001b[0;34m(\u001b[0m\u001b[0;36m30\u001b[0m\u001b[0;34m,\u001b[0m \u001b[0;36m500\u001b[0m\u001b[0;34m,\u001b[0m \u001b[0;36m3\u001b[0m\u001b[0;34m)\u001b[0m\u001b[0;34m\u001b[0m\u001b[0;34m\u001b[0m\u001b[0m\n\u001b[1;32m      3\u001b[0m \u001b[0magent\u001b[0m \u001b[0;34m=\u001b[0m \u001b[0mAgent\u001b[0m\u001b[0;34m(\u001b[0m\u001b[0mbayes_res\u001b[0m\u001b[0;34m[\u001b[0m\u001b[0;34m'population_size'\u001b[0m\u001b[0;34m]\u001b[0m\u001b[0;34m,\u001b[0m \u001b[0mbayes_res\u001b[0m\u001b[0;34m[\u001b[0m\u001b[0;34m'sigma'\u001b[0m\u001b[0;34m]\u001b[0m\u001b[0;34m,\u001b[0m \u001b[0mbayes_res\u001b[0m\u001b[0;34m[\u001b[0m\u001b[0;34m'learning_rate'\u001b[0m\u001b[0;34m]\u001b[0m\u001b[0;34m,\u001b[0m \u001b[0mmodel\u001b[0m\u001b[0;34m,\u001b[0m \u001b[0;36m10000\u001b[0m\u001b[0;34m,\u001b[0m \u001b[0;36m5\u001b[0m\u001b[0;34m,\u001b[0m \u001b[0;36m5\u001b[0m\u001b[0;34m,\u001b[0m \u001b[0mbayes_res\u001b[0m\u001b[0;34m[\u001b[0m\u001b[0;34m'skip'\u001b[0m\u001b[0;34m]\u001b[0m\u001b[0;34m,\u001b[0m \u001b[0mbayes_res\u001b[0m\u001b[0;34m[\u001b[0m\u001b[0;34m'window_size'\u001b[0m\u001b[0;34m]\u001b[0m\u001b[0;34m)\u001b[0m\u001b[0;34m\u001b[0m\u001b[0;34m\u001b[0m\u001b[0m\n\u001b[0;32m----> 4\u001b[0;31m \u001b[0magent\u001b[0m\u001b[0;34m.\u001b[0m\u001b[0mfit\u001b[0m\u001b[0;34m(\u001b[0m\u001b[0;36m500\u001b[0m\u001b[0;34m,\u001b[0m \u001b[0;36m100\u001b[0m\u001b[0;34m)\u001b[0m\u001b[0;34m\u001b[0m\u001b[0;34m\u001b[0m\u001b[0m\n\u001b[0m\u001b[1;32m      5\u001b[0m \u001b[0magent\u001b[0m\u001b[0;34m.\u001b[0m\u001b[0mbuy\u001b[0m\u001b[0;34m(\u001b[0m\u001b[0;34m)\u001b[0m\u001b[0;34m\u001b[0m\u001b[0;34m\u001b[0m\u001b[0m\n",
      "\u001b[0;32m<ipython-input-6-03183c90c682>\u001b[0m in \u001b[0;36mfit\u001b[0;34m(self, iterations, checkpoint)\u001b[0m\n\u001b[1;32m     67\u001b[0m \u001b[0;34m\u001b[0m\u001b[0m\n\u001b[1;32m     68\u001b[0m     \u001b[0;32mdef\u001b[0m \u001b[0mfit\u001b[0m\u001b[0;34m(\u001b[0m\u001b[0mself\u001b[0m\u001b[0;34m,\u001b[0m \u001b[0miterations\u001b[0m\u001b[0;34m,\u001b[0m \u001b[0mcheckpoint\u001b[0m\u001b[0;34m)\u001b[0m\u001b[0;34m:\u001b[0m\u001b[0;34m\u001b[0m\u001b[0;34m\u001b[0m\u001b[0m\n\u001b[0;32m---> 69\u001b[0;31m         \u001b[0mself\u001b[0m\u001b[0;34m.\u001b[0m\u001b[0mes\u001b[0m\u001b[0;34m.\u001b[0m\u001b[0mtrain\u001b[0m\u001b[0;34m(\u001b[0m\u001b[0miterations\u001b[0m\u001b[0;34m,\u001b[0m \u001b[0mprint_every\u001b[0m \u001b[0;34m=\u001b[0m \u001b[0mcheckpoint\u001b[0m\u001b[0;34m)\u001b[0m\u001b[0;34m\u001b[0m\u001b[0;34m\u001b[0m\u001b[0m\n\u001b[0m\u001b[1;32m     70\u001b[0m \u001b[0;34m\u001b[0m\u001b[0m\n\u001b[1;32m     71\u001b[0m     \u001b[0;32mdef\u001b[0m \u001b[0mbuy\u001b[0m\u001b[0;34m(\u001b[0m\u001b[0mself\u001b[0m\u001b[0;34m)\u001b[0m\u001b[0;34m:\u001b[0m\u001b[0;34m\u001b[0m\u001b[0;34m\u001b[0m\u001b[0m\n",
      "\u001b[0;32m<ipython-input-5-4efaf2b7209b>\u001b[0m in \u001b[0;36mtrain\u001b[0;34m(self, epoch, print_every)\u001b[0m\n\u001b[1;32m     36\u001b[0m                     \u001b[0mself\u001b[0m\u001b[0;34m.\u001b[0m\u001b[0mweights\u001b[0m\u001b[0;34m,\u001b[0m \u001b[0mpopulation\u001b[0m\u001b[0;34m[\u001b[0m\u001b[0mk\u001b[0m\u001b[0;34m]\u001b[0m\u001b[0;34m\u001b[0m\u001b[0;34m\u001b[0m\u001b[0m\n\u001b[1;32m     37\u001b[0m                 )\n\u001b[0;32m---> 38\u001b[0;31m                 \u001b[0mrewards\u001b[0m\u001b[0;34m[\u001b[0m\u001b[0mk\u001b[0m\u001b[0;34m]\u001b[0m \u001b[0;34m=\u001b[0m \u001b[0mself\u001b[0m\u001b[0;34m.\u001b[0m\u001b[0mreward_function\u001b[0m\u001b[0;34m(\u001b[0m\u001b[0mweights_population\u001b[0m\u001b[0;34m)\u001b[0m\u001b[0;34m\u001b[0m\u001b[0;34m\u001b[0m\u001b[0m\n\u001b[0m\u001b[1;32m     39\u001b[0m             \u001b[0mrewards\u001b[0m \u001b[0;34m=\u001b[0m \u001b[0;34m(\u001b[0m\u001b[0mrewards\u001b[0m \u001b[0;34m-\u001b[0m \u001b[0mnp\u001b[0m\u001b[0;34m.\u001b[0m\u001b[0mmean\u001b[0m\u001b[0;34m(\u001b[0m\u001b[0mrewards\u001b[0m\u001b[0;34m)\u001b[0m\u001b[0;34m)\u001b[0m \u001b[0;34m/\u001b[0m \u001b[0mnp\u001b[0m\u001b[0;34m.\u001b[0m\u001b[0mstd\u001b[0m\u001b[0;34m(\u001b[0m\u001b[0mrewards\u001b[0m\u001b[0;34m)\u001b[0m\u001b[0;34m\u001b[0m\u001b[0;34m\u001b[0m\u001b[0m\n\u001b[1;32m     40\u001b[0m             \u001b[0;32mfor\u001b[0m \u001b[0mindex\u001b[0m\u001b[0;34m,\u001b[0m \u001b[0mw\u001b[0m \u001b[0;32min\u001b[0m \u001b[0menumerate\u001b[0m\u001b[0;34m(\u001b[0m\u001b[0mself\u001b[0m\u001b[0;34m.\u001b[0m\u001b[0mweights\u001b[0m\u001b[0;34m)\u001b[0m\u001b[0;34m:\u001b[0m\u001b[0;34m\u001b[0m\u001b[0;34m\u001b[0m\u001b[0m\n",
      "\u001b[0;32m<ipython-input-6-03183c90c682>\u001b[0m in \u001b[0;36mget_reward\u001b[0;34m(self, weights)\u001b[0m\n\u001b[1;32m     41\u001b[0m         \u001b[0mquantity\u001b[0m \u001b[0;34m=\u001b[0m \u001b[0;36m0\u001b[0m\u001b[0;34m\u001b[0m\u001b[0;34m\u001b[0m\u001b[0m\n\u001b[1;32m     42\u001b[0m         \u001b[0;32mfor\u001b[0m \u001b[0mt\u001b[0m \u001b[0;32min\u001b[0m \u001b[0mrange\u001b[0m\u001b[0;34m(\u001b[0m\u001b[0;36m0\u001b[0m\u001b[0;34m,\u001b[0m \u001b[0ml\u001b[0m\u001b[0;34m,\u001b[0m \u001b[0mself\u001b[0m\u001b[0;34m.\u001b[0m\u001b[0mskip\u001b[0m\u001b[0;34m)\u001b[0m\u001b[0;34m:\u001b[0m\u001b[0;34m\u001b[0m\u001b[0;34m\u001b[0m\u001b[0m\n\u001b[0;32m---> 43\u001b[0;31m             \u001b[0maction\u001b[0m\u001b[0;34m,\u001b[0m \u001b[0mbuy\u001b[0m \u001b[0;34m=\u001b[0m \u001b[0mself\u001b[0m\u001b[0;34m.\u001b[0m\u001b[0mact\u001b[0m\u001b[0;34m(\u001b[0m\u001b[0mstate\u001b[0m\u001b[0;34m)\u001b[0m\u001b[0;34m\u001b[0m\u001b[0;34m\u001b[0m\u001b[0m\n\u001b[0m\u001b[1;32m     44\u001b[0m             \u001b[0mnext_state\u001b[0m \u001b[0;34m=\u001b[0m \u001b[0mget_state\u001b[0m\u001b[0;34m(\u001b[0m\u001b[0mclose\u001b[0m\u001b[0;34m,\u001b[0m \u001b[0mt\u001b[0m \u001b[0;34m+\u001b[0m \u001b[0;36m1\u001b[0m\u001b[0;34m,\u001b[0m \u001b[0mself\u001b[0m\u001b[0;34m.\u001b[0m\u001b[0mwindow_size\u001b[0m \u001b[0;34m+\u001b[0m \u001b[0;36m1\u001b[0m\u001b[0;34m)\u001b[0m\u001b[0;34m\u001b[0m\u001b[0;34m\u001b[0m\u001b[0m\n\u001b[1;32m     45\u001b[0m             \u001b[0;32mif\u001b[0m \u001b[0maction\u001b[0m \u001b[0;34m==\u001b[0m \u001b[0;36m1\u001b[0m \u001b[0;32mand\u001b[0m \u001b[0minitial_money\u001b[0m \u001b[0;34m>=\u001b[0m \u001b[0mclose\u001b[0m\u001b[0;34m[\u001b[0m\u001b[0mt\u001b[0m\u001b[0;34m]\u001b[0m\u001b[0;34m:\u001b[0m\u001b[0;34m\u001b[0m\u001b[0;34m\u001b[0m\u001b[0m\n",
      "\u001b[0;32m<ipython-input-6-03183c90c682>\u001b[0m in \u001b[0;36mact\u001b[0;34m(self, sequence)\u001b[0m\n\u001b[1;32m     30\u001b[0m \u001b[0;34m\u001b[0m\u001b[0m\n\u001b[1;32m     31\u001b[0m     \u001b[0;32mdef\u001b[0m \u001b[0mact\u001b[0m\u001b[0;34m(\u001b[0m\u001b[0mself\u001b[0m\u001b[0;34m,\u001b[0m \u001b[0msequence\u001b[0m\u001b[0;34m)\u001b[0m\u001b[0;34m:\u001b[0m\u001b[0;34m\u001b[0m\u001b[0;34m\u001b[0m\u001b[0m\n\u001b[0;32m---> 32\u001b[0;31m         \u001b[0mdecision\u001b[0m\u001b[0;34m,\u001b[0m \u001b[0mbuy\u001b[0m \u001b[0;34m=\u001b[0m \u001b[0mself\u001b[0m\u001b[0;34m.\u001b[0m\u001b[0mmodel\u001b[0m\u001b[0;34m.\u001b[0m\u001b[0mpredict\u001b[0m\u001b[0;34m(\u001b[0m\u001b[0mnp\u001b[0m\u001b[0;34m.\u001b[0m\u001b[0marray\u001b[0m\u001b[0;34m(\u001b[0m\u001b[0msequence\u001b[0m\u001b[0;34m)\u001b[0m\u001b[0;34m)\u001b[0m\u001b[0;34m\u001b[0m\u001b[0;34m\u001b[0m\u001b[0m\n\u001b[0m\u001b[1;32m     33\u001b[0m         \u001b[0;32mreturn\u001b[0m \u001b[0mnp\u001b[0m\u001b[0;34m.\u001b[0m\u001b[0margmax\u001b[0m\u001b[0;34m(\u001b[0m\u001b[0mdecision\u001b[0m\u001b[0;34m[\u001b[0m\u001b[0;36m0\u001b[0m\u001b[0;34m]\u001b[0m\u001b[0;34m)\u001b[0m\u001b[0;34m,\u001b[0m \u001b[0mint\u001b[0m\u001b[0;34m(\u001b[0m\u001b[0mbuy\u001b[0m\u001b[0;34m[\u001b[0m\u001b[0;36m0\u001b[0m\u001b[0;34m]\u001b[0m\u001b[0;34m)\u001b[0m\u001b[0;34m\u001b[0m\u001b[0;34m\u001b[0m\u001b[0m\n\u001b[1;32m     34\u001b[0m \u001b[0;34m\u001b[0m\u001b[0m\n",
      "\u001b[0;32m<ipython-input-5-4efaf2b7209b>\u001b[0m in \u001b[0;36mpredict\u001b[0;34m(self, inputs)\u001b[0m\n\u001b[1;32m     64\u001b[0m \u001b[0;34m\u001b[0m\u001b[0m\n\u001b[1;32m     65\u001b[0m     \u001b[0;32mdef\u001b[0m \u001b[0mpredict\u001b[0m\u001b[0;34m(\u001b[0m\u001b[0mself\u001b[0m\u001b[0;34m,\u001b[0m \u001b[0minputs\u001b[0m\u001b[0;34m)\u001b[0m\u001b[0;34m:\u001b[0m\u001b[0;34m\u001b[0m\u001b[0;34m\u001b[0m\u001b[0m\n\u001b[0;32m---> 66\u001b[0;31m         \u001b[0mfeed\u001b[0m \u001b[0;34m=\u001b[0m \u001b[0mnp\u001b[0m\u001b[0;34m.\u001b[0m\u001b[0mdot\u001b[0m\u001b[0;34m(\u001b[0m\u001b[0minputs\u001b[0m\u001b[0;34m,\u001b[0m \u001b[0mself\u001b[0m\u001b[0;34m.\u001b[0m\u001b[0mweights\u001b[0m\u001b[0;34m[\u001b[0m\u001b[0;36m0\u001b[0m\u001b[0;34m]\u001b[0m\u001b[0;34m)\u001b[0m \u001b[0;34m+\u001b[0m \u001b[0mself\u001b[0m\u001b[0;34m.\u001b[0m\u001b[0mweights\u001b[0m\u001b[0;34m[\u001b[0m\u001b[0;34m-\u001b[0m\u001b[0;36m1\u001b[0m\u001b[0;34m]\u001b[0m\u001b[0;34m\u001b[0m\u001b[0;34m\u001b[0m\u001b[0m\n\u001b[0m\u001b[1;32m     67\u001b[0m         \u001b[0mdecision\u001b[0m \u001b[0;34m=\u001b[0m \u001b[0mnp\u001b[0m\u001b[0;34m.\u001b[0m\u001b[0mdot\u001b[0m\u001b[0;34m(\u001b[0m\u001b[0mfeed\u001b[0m\u001b[0;34m,\u001b[0m \u001b[0mself\u001b[0m\u001b[0;34m.\u001b[0m\u001b[0mweights\u001b[0m\u001b[0;34m[\u001b[0m\u001b[0;36m1\u001b[0m\u001b[0;34m]\u001b[0m\u001b[0;34m)\u001b[0m\u001b[0;34m\u001b[0m\u001b[0;34m\u001b[0m\u001b[0m\n\u001b[1;32m     68\u001b[0m         \u001b[0mbuy\u001b[0m \u001b[0;34m=\u001b[0m \u001b[0mnp\u001b[0m\u001b[0;34m.\u001b[0m\u001b[0mdot\u001b[0m\u001b[0;34m(\u001b[0m\u001b[0mfeed\u001b[0m\u001b[0;34m,\u001b[0m \u001b[0mself\u001b[0m\u001b[0;34m.\u001b[0m\u001b[0mweights\u001b[0m\u001b[0;34m[\u001b[0m\u001b[0;36m2\u001b[0m\u001b[0;34m]\u001b[0m\u001b[0;34m)\u001b[0m\u001b[0;34m\u001b[0m\u001b[0;34m\u001b[0m\u001b[0m\n",
      "\u001b[0;31mValueError\u001b[0m: shapes (1,43) and (30,500) not aligned: 43 (dim 1) != 30 (dim 0)"
     ]
    }
   ],
   "source": [
    "# this is my parameter\n",
    "model = Model(30, 500, 3)\n",
    "agent = Agent(15, 0.1, 0.03, model, 10000, 5, 5, 1, 30)\n",
    "agent.fit(500, 100)\n",
    "agent.buy()"
   ]
  },
  {
   "cell_type": "code",
   "execution_count": null,
   "metadata": {},
   "outputs": [],
   "source": [
    "# this is from bayesian\n",
    "model = Model(20, 176, 3)\n",
    "#agent = Agent(bayes_res['population_size'], bayes_res['sigma'], bayes_res['learning_rate'], model, 10000, 5, 5, bayes_res['skip'], bayes_res['window_size'])\n",
    "agent = Agent(\n",
    "    34, 0.7152490670931403, 0.28208006704411104, model, 10000, 5, 5, 1, 20\n",
    ")\n",
    "agent.fit(500, 100)\n",
    "agent.buy()"
   ]
  },
  {
   "cell_type": "code",
   "execution_count": null,
   "metadata": {},
   "outputs": [],
   "source": []
  }
 ],
 "metadata": {
  "kernelspec": {
   "display_name": "agent-MVd_fBYN",
   "language": "python",
   "name": "agent-mvd_fbyn"
  },
  "language_info": {
   "codemirror_mode": {
    "name": "ipython",
    "version": 3
   },
   "file_extension": ".py",
   "mimetype": "text/x-python",
   "name": "python",
   "nbconvert_exporter": "python",
   "pygments_lexer": "ipython3",
   "version": "3.7.2"
  }
 },
 "nbformat": 4,
 "nbformat_minor": 2
}
